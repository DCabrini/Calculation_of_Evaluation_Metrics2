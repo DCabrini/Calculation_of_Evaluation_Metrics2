{
  "nbformat": 4,
  "nbformat_minor": 0,
  "metadata": {
    "colab": {
      "provenance": [],
      "authorship_tag": "ABX9TyMYPODShZW7sUWRFRv/qINX",
      "include_colab_link": true
    },
    "kernelspec": {
      "name": "python3",
      "display_name": "Python 3"
    },
    "language_info": {
      "name": "python"
    }
  },
  "cells": [
    {
      "cell_type": "markdown",
      "metadata": {
        "id": "view-in-github",
        "colab_type": "text"
      },
      "source": [
        "<a href=\"https://colab.research.google.com/github/DCabrini/Calculation_of_Evaluation_Metrics2/blob/main/Calculation_of_Evaluation_Metrics2.ipynb\" target=\"_parent\"><img src=\"https://colab.research.google.com/assets/colab-badge.svg\" alt=\"Open In Colab\"/></a>"
      ]
    },
    {
      "cell_type": "code",
      "execution_count": 1,
      "metadata": {
        "id": "04YumbJAWx1u"
      },
      "outputs": [],
      "source": [
        "# Import\n",
        "from sklearn.model_selection import train_test_split\n",
        "from sklearn import tree\n",
        "from sklearn.metrics import ConfusionMatrixDisplay\n",
        "import matplotlib.pyplot as plt"
      ]
    },
    {
      "cell_type": "code",
      "source": [
        "# Data loading\n",
        "from sklearn.datasets import make_moons\n",
        "dataset = make_moons()\n",
        "print(type(dataset))"
      ],
      "metadata": {
        "colab": {
          "base_uri": "https://localhost:8080/"
        },
        "id": "duXFx-FNW4K1",
        "outputId": "5b2b6164-6933-4dfc-a657-d4554773307f"
      },
      "execution_count": 2,
      "outputs": [
        {
          "output_type": "stream",
          "name": "stdout",
          "text": [
            "<class 'tuple'>\n"
          ]
        }
      ]
    },
    {
      "cell_type": "code",
      "source": [
        "# Preprocessing\n",
        "features = []\n",
        "class_ = []\n",
        "for i, j in enumerate(dataset):\n",
        "  if i == 0:\n",
        "    features.append(j)\n",
        "  else:\n",
        "    class_.append(j)"
      ],
      "metadata": {
        "id": "0oaHVZDLXAbk"
      },
      "execution_count": 3,
      "outputs": []
    },
    {
      "cell_type": "code",
      "source": [
        "# model\n",
        "x_test, x_train, y_test, y_train = train_test_split(features[0], class_[0], train_size= 0.2, shuffle= True)\n",
        "model = tree.DecisionTreeClassifier().fit(x_train, y_train)\n",
        "pred = model.predict(x_test)\n"
      ],
      "metadata": {
        "id": "EyNxdssZXDLb"
      },
      "execution_count": 4,
      "outputs": []
    },
    {
      "cell_type": "code",
      "source": [
        "# Print Confusuin Matrix\n",
        "disp = ConfusionMatrixDisplay.from_estimator(model,\n",
        "                                             x_test,\n",
        "                                             y_test,\n",
        "                                             #display_labels= data.target_names,\n",
        "                                             cmap = plt.cm.Blues)\n",
        "title = 'Confusion Matrix'\n",
        "disp.ax_.set_title(title)\n",
        "plt.show()"
      ],
      "metadata": {
        "colab": {
          "base_uri": "https://localhost:8080/",
          "height": 472
        },
        "id": "xyMiw9DbXF2g",
        "outputId": "bee91b91-2a44-4673-d7cc-d497cd5a8c73"
      },
      "execution_count": 5,
      "outputs": [
        {
          "output_type": "display_data",
          "data": {
            "text/plain": [
              "<Figure size 640x480 with 2 Axes>"
            ],
            "image/png": "[encoded data removed]"
          },
          "metadata": {}
        }
      ]
    },
    {
      "cell_type": "code",
      "source": [
        "cm = disp.confusion_matrix\n",
        "TP = cm[0, 0]\n",
        "TN = cm[1, 1]\n",
        "FP = cm[1, 0]\n",
        "FN = cm[0, 1]\n",
        "\n",
        "accuracy = (TP + TN)/(TP + TN + FP + FN)\n",
        "precision = TP/(FP + TP)\n",
        "recall= TP/(FN + TP)\n",
        "specificity= TN/(FP + TN)\n",
        "f1_score = 2*(precision*recall)/(precision + recall)\n",
        "\n",
        "print(f'Accuracy = {accuracy}')\n",
        "print(f'Precision = {precision}')\n",
        "print(f'Recall = {recall}')\n",
        "print(f'Specificity = {specificity}')\n",
        "print(f'F1-Score = {f1_score}')"
      ],
      "metadata": {
        "colab": {
          "base_uri": "https://localhost:8080/"
        },
        "id": "P3rrXcgWXHt7",
        "outputId": "ad9990d1-b8c3-474e-a449-bf62c8619b8f"
      },
      "execution_count": 6,
      "outputs": [
        {
          "output_type": "stream",
          "name": "stdout",
          "text": [
            "Accuracy = 0.9\n",
            "Precision = 1.0\n",
            "Recall = 0.8\n",
            "Specificity = 1.0\n",
            "F1-Score = 0.888888888888889\n"
          ]
        }
      ]
    }
  ]
}